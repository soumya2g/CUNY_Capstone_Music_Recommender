{
 "cells": [
  {
   "cell_type": "markdown",
   "id": "083bef48",
   "metadata": {},
   "source": [
    "## Extracting Features From the Original Dataset\n",
    "\n",
    "This notebook is used to extract features from the original dataset, which gives us limited information about the songs. Here, we use the \"ari.py\" script to extract a set of features about each song, along with the popularities of both the artist and song itself, along with genres"
   ]
  },
  {
   "cell_type": "code",
   "execution_count": 1,
   "id": "96b6da81",
   "metadata": {},
   "outputs": [],
   "source": [
    "#Import from the other file\n",
    "from scripts.ari import ari_to_features\n",
    "import pandas as pd\n",
    "from tqdm import tqdm\n",
    "import re"
   ]
  },
  {
   "cell_type": "code",
   "execution_count": 2,
   "id": "fb470b26",
   "metadata": {},
   "outputs": [
    {
     "data": {
      "text/html": [
       "<div>\n",
       "<style scoped>\n",
       "    .dataframe tbody tr th:only-of-type {\n",
       "        vertical-align: middle;\n",
       "    }\n",
       "\n",
       "    .dataframe tbody tr th {\n",
       "        vertical-align: top;\n",
       "    }\n",
       "\n",
       "    .dataframe thead th {\n",
       "        text-align: right;\n",
       "    }\n",
       "</style>\n",
       "<table border=\"1\" class=\"dataframe\">\n",
       "  <thead>\n",
       "    <tr style=\"text-align: right;\">\n",
       "      <th></th>\n",
       "      <th>Unnamed: 0</th>\n",
       "      <th>pos</th>\n",
       "      <th>artist_name</th>\n",
       "      <th>track_uri</th>\n",
       "      <th>artist_uri</th>\n",
       "      <th>track_name</th>\n",
       "      <th>album_uri</th>\n",
       "      <th>duration_ms</th>\n",
       "      <th>album_name</th>\n",
       "      <th>name</th>\n",
       "    </tr>\n",
       "  </thead>\n",
       "  <tbody>\n",
       "    <tr>\n",
       "      <th>0</th>\n",
       "      <td>0</td>\n",
       "      <td>0</td>\n",
       "      <td>Missy Elliott</td>\n",
       "      <td>spotify:track:0UaMYEvWZi0ZqiDOoHU3YI</td>\n",
       "      <td>spotify:artist:2wIVse2owClT7go1WT98tk</td>\n",
       "      <td>Lose Control (feat. Ciara &amp; Fat Man Scoop)</td>\n",
       "      <td>spotify:album:6vV5UrXcfyQD1wu4Qo2I9K</td>\n",
       "      <td>226863</td>\n",
       "      <td>The Cookbook</td>\n",
       "      <td>Throwbacks</td>\n",
       "    </tr>\n",
       "    <tr>\n",
       "      <th>1</th>\n",
       "      <td>1</td>\n",
       "      <td>1</td>\n",
       "      <td>Britney Spears</td>\n",
       "      <td>spotify:track:6I9VzXrHxO9rA9A5euc8Ak</td>\n",
       "      <td>spotify:artist:26dSoYclwsYLMAKD3tpOr4</td>\n",
       "      <td>Toxic</td>\n",
       "      <td>spotify:album:0z7pVBGOD7HCIB7S8eLkLI</td>\n",
       "      <td>198800</td>\n",
       "      <td>In The Zone</td>\n",
       "      <td>Throwbacks</td>\n",
       "    </tr>\n",
       "    <tr>\n",
       "      <th>2</th>\n",
       "      <td>2</td>\n",
       "      <td>2</td>\n",
       "      <td>Beyoncé</td>\n",
       "      <td>spotify:track:0WqIKmW4BTrj3eJFmnCKMv</td>\n",
       "      <td>spotify:artist:6vWDO969PvNqNYHIOW5v0m</td>\n",
       "      <td>Crazy In Love</td>\n",
       "      <td>spotify:album:25hVFAxTlDvXbx2X2QkUkE</td>\n",
       "      <td>235933</td>\n",
       "      <td>Dangerously In Love (Alben für die Ewigkeit)</td>\n",
       "      <td>Throwbacks</td>\n",
       "    </tr>\n",
       "    <tr>\n",
       "      <th>3</th>\n",
       "      <td>3</td>\n",
       "      <td>3</td>\n",
       "      <td>Justin Timberlake</td>\n",
       "      <td>spotify:track:1AWQoqb9bSvzTjaLralEkT</td>\n",
       "      <td>spotify:artist:31TPClRtHm23RisEBtV3X7</td>\n",
       "      <td>Rock Your Body</td>\n",
       "      <td>spotify:album:6QPkyl04rXwTGlGlcYaRoW</td>\n",
       "      <td>267266</td>\n",
       "      <td>Justified</td>\n",
       "      <td>Throwbacks</td>\n",
       "    </tr>\n",
       "    <tr>\n",
       "      <th>4</th>\n",
       "      <td>4</td>\n",
       "      <td>4</td>\n",
       "      <td>Shaggy</td>\n",
       "      <td>spotify:track:1lzr43nnXAijIGYnCT8M8H</td>\n",
       "      <td>spotify:artist:5EvFsr3kj42KNv97ZEnqij</td>\n",
       "      <td>It Wasn't Me</td>\n",
       "      <td>spotify:album:6NmFmPX56pcLBOFMhIiKvF</td>\n",
       "      <td>227600</td>\n",
       "      <td>Hot Shot</td>\n",
       "      <td>Throwbacks</td>\n",
       "    </tr>\n",
       "  </tbody>\n",
       "</table>\n",
       "</div>"
      ],
      "text/plain": [
       "   Unnamed: 0  pos        artist_name                             track_uri  \\\n",
       "0           0    0      Missy Elliott  spotify:track:0UaMYEvWZi0ZqiDOoHU3YI   \n",
       "1           1    1     Britney Spears  spotify:track:6I9VzXrHxO9rA9A5euc8Ak   \n",
       "2           2    2            Beyoncé  spotify:track:0WqIKmW4BTrj3eJFmnCKMv   \n",
       "3           3    3  Justin Timberlake  spotify:track:1AWQoqb9bSvzTjaLralEkT   \n",
       "4           4    4             Shaggy  spotify:track:1lzr43nnXAijIGYnCT8M8H   \n",
       "\n",
       "                              artist_uri  \\\n",
       "0  spotify:artist:2wIVse2owClT7go1WT98tk   \n",
       "1  spotify:artist:26dSoYclwsYLMAKD3tpOr4   \n",
       "2  spotify:artist:6vWDO969PvNqNYHIOW5v0m   \n",
       "3  spotify:artist:31TPClRtHm23RisEBtV3X7   \n",
       "4  spotify:artist:5EvFsr3kj42KNv97ZEnqij   \n",
       "\n",
       "                                   track_name  \\\n",
       "0  Lose Control (feat. Ciara & Fat Man Scoop)   \n",
       "1                                       Toxic   \n",
       "2                               Crazy In Love   \n",
       "3                              Rock Your Body   \n",
       "4                                It Wasn't Me   \n",
       "\n",
       "                              album_uri  duration_ms  \\\n",
       "0  spotify:album:6vV5UrXcfyQD1wu4Qo2I9K       226863   \n",
       "1  spotify:album:0z7pVBGOD7HCIB7S8eLkLI       198800   \n",
       "2  spotify:album:25hVFAxTlDvXbx2X2QkUkE       235933   \n",
       "3  spotify:album:6QPkyl04rXwTGlGlcYaRoW       267266   \n",
       "4  spotify:album:6NmFmPX56pcLBOFMhIiKvF       227600   \n",
       "\n",
       "                                     album_name        name  \n",
       "0                                  The Cookbook  Throwbacks  \n",
       "1                                   In The Zone  Throwbacks  \n",
       "2  Dangerously In Love (Alben für die Ewigkeit)  Throwbacks  \n",
       "3                                     Justified  Throwbacks  \n",
       "4                                      Hot Shot  Throwbacks  "
      ]
     },
     "execution_count": 2,
     "metadata": {},
     "output_type": "execute_result"
    }
   ],
   "source": [
    "#Load the raw_data from the repo\n",
    "dataPath = '../data/raw_data.csv'\n",
    "df = pd.read_csv(dataPath)\n",
    "df.head()\n"
   ]
  },
  {
   "cell_type": "code",
   "execution_count": 3,
   "id": "f94b4f09",
   "metadata": {},
   "outputs": [
    {
     "data": {
      "text/plain": [
       "0        0UaMYEvWZi0ZqiDOoHU3YI\n",
       "1        6I9VzXrHxO9rA9A5euc8Ak\n",
       "2        0WqIKmW4BTrj3eJFmnCKMv\n",
       "3        1AWQoqb9bSvzTjaLralEkT\n",
       "4        1lzr43nnXAijIGYnCT8M8H\n",
       "                  ...          \n",
       "67498    5uCax9HTNlzGybIStD3vDh\n",
       "67499    0P1oO2gREMYUCoOkzYAyFu\n",
       "67500    2oM4BuruDnEvk59IvIXCwn\n",
       "67501    4Ri5TTUgjM96tbQZd5Ua7V\n",
       "67502    5RVuBrXVLptAEbGJdSDzL5\n",
       "Name: track_uri, Length: 67503, dtype: object"
      ]
     },
     "execution_count": 3,
     "metadata": {},
     "output_type": "execute_result"
    }
   ],
   "source": [
    "#Edit the track-uris to a more usable format\n",
    "df[\"track_uri\"] = df[\"track_uri\"].apply(lambda x: re.findall(r'\\w+$', x)[0])\n",
    "df[\"track_uri\"]"
   ]
  },
  {
   "cell_type": "code",
   "execution_count": 4,
   "id": "259d8ee4",
   "metadata": {},
   "outputs": [],
   "source": [
    "testDF = df\n",
    "#feature = ari_to_features(df[\"track_uri\"])\n",
    "#feature_df_test = pd.DataFrame(feature)\n",
    "#feature_df_test.head()"
   ]
  },
  {
   "cell_type": "code",
   "execution_count": 5,
   "id": "66db21d9",
   "metadata": {},
   "outputs": [
    {
     "data": {
      "text/html": [
       "<div>\n",
       "<style scoped>\n",
       "    .dataframe tbody tr th:only-of-type {\n",
       "        vertical-align: middle;\n",
       "    }\n",
       "\n",
       "    .dataframe tbody tr th {\n",
       "        vertical-align: top;\n",
       "    }\n",
       "\n",
       "    .dataframe thead th {\n",
       "        text-align: right;\n",
       "    }\n",
       "</style>\n",
       "<table border=\"1\" class=\"dataframe\">\n",
       "  <thead>\n",
       "    <tr style=\"text-align: right;\">\n",
       "      <th></th>\n",
       "      <th>Unnamed: 0</th>\n",
       "      <th>pos</th>\n",
       "      <th>artist_name</th>\n",
       "      <th>track_uri</th>\n",
       "      <th>artist_uri</th>\n",
       "      <th>track_name</th>\n",
       "      <th>album_uri</th>\n",
       "      <th>duration_ms</th>\n",
       "      <th>album_name</th>\n",
       "      <th>name</th>\n",
       "    </tr>\n",
       "  </thead>\n",
       "  <tbody>\n",
       "    <tr>\n",
       "      <th>0</th>\n",
       "      <td>0</td>\n",
       "      <td>0</td>\n",
       "      <td>Missy Elliott</td>\n",
       "      <td>0UaMYEvWZi0ZqiDOoHU3YI</td>\n",
       "      <td>spotify:artist:2wIVse2owClT7go1WT98tk</td>\n",
       "      <td>Lose Control (feat. Ciara &amp; Fat Man Scoop)</td>\n",
       "      <td>spotify:album:6vV5UrXcfyQD1wu4Qo2I9K</td>\n",
       "      <td>226863</td>\n",
       "      <td>The Cookbook</td>\n",
       "      <td>Throwbacks</td>\n",
       "    </tr>\n",
       "    <tr>\n",
       "      <th>1</th>\n",
       "      <td>1</td>\n",
       "      <td>1</td>\n",
       "      <td>Britney Spears</td>\n",
       "      <td>6I9VzXrHxO9rA9A5euc8Ak</td>\n",
       "      <td>spotify:artist:26dSoYclwsYLMAKD3tpOr4</td>\n",
       "      <td>Toxic</td>\n",
       "      <td>spotify:album:0z7pVBGOD7HCIB7S8eLkLI</td>\n",
       "      <td>198800</td>\n",
       "      <td>In The Zone</td>\n",
       "      <td>Throwbacks</td>\n",
       "    </tr>\n",
       "    <tr>\n",
       "      <th>2</th>\n",
       "      <td>2</td>\n",
       "      <td>2</td>\n",
       "      <td>Beyoncé</td>\n",
       "      <td>0WqIKmW4BTrj3eJFmnCKMv</td>\n",
       "      <td>spotify:artist:6vWDO969PvNqNYHIOW5v0m</td>\n",
       "      <td>Crazy In Love</td>\n",
       "      <td>spotify:album:25hVFAxTlDvXbx2X2QkUkE</td>\n",
       "      <td>235933</td>\n",
       "      <td>Dangerously In Love (Alben für die Ewigkeit)</td>\n",
       "      <td>Throwbacks</td>\n",
       "    </tr>\n",
       "    <tr>\n",
       "      <th>3</th>\n",
       "      <td>3</td>\n",
       "      <td>3</td>\n",
       "      <td>Justin Timberlake</td>\n",
       "      <td>1AWQoqb9bSvzTjaLralEkT</td>\n",
       "      <td>spotify:artist:31TPClRtHm23RisEBtV3X7</td>\n",
       "      <td>Rock Your Body</td>\n",
       "      <td>spotify:album:6QPkyl04rXwTGlGlcYaRoW</td>\n",
       "      <td>267266</td>\n",
       "      <td>Justified</td>\n",
       "      <td>Throwbacks</td>\n",
       "    </tr>\n",
       "    <tr>\n",
       "      <th>4</th>\n",
       "      <td>4</td>\n",
       "      <td>4</td>\n",
       "      <td>Shaggy</td>\n",
       "      <td>1lzr43nnXAijIGYnCT8M8H</td>\n",
       "      <td>spotify:artist:5EvFsr3kj42KNv97ZEnqij</td>\n",
       "      <td>It Wasn't Me</td>\n",
       "      <td>spotify:album:6NmFmPX56pcLBOFMhIiKvF</td>\n",
       "      <td>227600</td>\n",
       "      <td>Hot Shot</td>\n",
       "      <td>Throwbacks</td>\n",
       "    </tr>\n",
       "  </tbody>\n",
       "</table>\n",
       "</div>"
      ],
      "text/plain": [
       "   Unnamed: 0  pos        artist_name               track_uri  \\\n",
       "0           0    0      Missy Elliott  0UaMYEvWZi0ZqiDOoHU3YI   \n",
       "1           1    1     Britney Spears  6I9VzXrHxO9rA9A5euc8Ak   \n",
       "2           2    2            Beyoncé  0WqIKmW4BTrj3eJFmnCKMv   \n",
       "3           3    3  Justin Timberlake  1AWQoqb9bSvzTjaLralEkT   \n",
       "4           4    4             Shaggy  1lzr43nnXAijIGYnCT8M8H   \n",
       "\n",
       "                              artist_uri  \\\n",
       "0  spotify:artist:2wIVse2owClT7go1WT98tk   \n",
       "1  spotify:artist:26dSoYclwsYLMAKD3tpOr4   \n",
       "2  spotify:artist:6vWDO969PvNqNYHIOW5v0m   \n",
       "3  spotify:artist:31TPClRtHm23RisEBtV3X7   \n",
       "4  spotify:artist:5EvFsr3kj42KNv97ZEnqij   \n",
       "\n",
       "                                   track_name  \\\n",
       "0  Lose Control (feat. Ciara & Fat Man Scoop)   \n",
       "1                                       Toxic   \n",
       "2                               Crazy In Love   \n",
       "3                              Rock Your Body   \n",
       "4                                It Wasn't Me   \n",
       "\n",
       "                              album_uri  duration_ms  \\\n",
       "0  spotify:album:6vV5UrXcfyQD1wu4Qo2I9K       226863   \n",
       "1  spotify:album:0z7pVBGOD7HCIB7S8eLkLI       198800   \n",
       "2  spotify:album:25hVFAxTlDvXbx2X2QkUkE       235933   \n",
       "3  spotify:album:6QPkyl04rXwTGlGlcYaRoW       267266   \n",
       "4  spotify:album:6NmFmPX56pcLBOFMhIiKvF       227600   \n",
       "\n",
       "                                     album_name        name  \n",
       "0                                  The Cookbook  Throwbacks  \n",
       "1                                   In The Zone  Throwbacks  \n",
       "2  Dangerously In Love (Alben für die Ewigkeit)  Throwbacks  \n",
       "3                                     Justified  Throwbacks  \n",
       "4                                      Hot Shot  Throwbacks  "
      ]
     },
     "execution_count": 5,
     "metadata": {},
     "output_type": "execute_result"
    }
   ],
   "source": [
    "df.head()"
   ]
  },
  {
   "cell_type": "markdown",
   "id": "abc38a7d",
   "metadata": {},
   "source": [
    "### Included Features\n",
    "The code cell below gives an example of the features extracted from each track, showing the kind of information that is used to cluster the data further on."
   ]
  },
  {
   "cell_type": "code",
   "execution_count": 6,
   "id": "d050cdb0",
   "metadata": {},
   "outputs": [
    {
     "data": {
      "text/plain": [
       "{'danceability': 0.904,\n",
       " 'energy': 0.813,\n",
       " 'key': 4,\n",
       " 'loudness': -7.105,\n",
       " 'mode': 0,\n",
       " 'speechiness': 0.121,\n",
       " 'acousticness': 0.0311,\n",
       " 'instrumentalness': 0.00697,\n",
       " 'liveness': 0.0471,\n",
       " 'valence': 0.81,\n",
       " 'tempo': 125.461,\n",
       " 'type': 'audio_features',\n",
       " 'id': '0UaMYEvWZi0ZqiDOoHU3YI',\n",
       " 'uri': 'spotify:track:0UaMYEvWZi0ZqiDOoHU3YI',\n",
       " 'track_href': 'https://api.spotify.com/v1/tracks/0UaMYEvWZi0ZqiDOoHU3YI',\n",
       " 'analysis_url': 'https://api.spotify.com/v1/audio-analysis/0UaMYEvWZi0ZqiDOoHU3YI',\n",
       " 'duration_ms': 226864,\n",
       " 'time_signature': 4,\n",
       " 'artist_pop': 71,\n",
       " 'genres': 'dance_pop hip_hop hip_pop pop pop_rap r&b rap urban_contemporary virginia_hip_hop',\n",
       " 'track_pop': 66}"
      ]
     },
     "execution_count": 6,
     "metadata": {},
     "output_type": "execute_result"
    }
   ],
   "source": [
    "#Test the feature extraction script, and display features\n",
    "ari_to_features(df[\"track_uri\"][0])\n",
    "#print(df[\"track_uri\"][0])"
   ]
  },
  {
   "cell_type": "markdown",
   "id": "425104cf",
   "metadata": {},
   "source": [
    "## Extraction\n",
    "Below here, we extract features from each track using the Spotify API and the associated URI. This is done in 3 sections, due to the extremely long runtime of this process. We build a DataFrame containing these features."
   ]
  },
  {
   "cell_type": "code",
   "execution_count": null,
   "id": "8675c211",
   "metadata": {},
   "outputs": [],
   "source": [
    "first_half = df[\"track_uri\"].unique()[:10000]\n",
    "second_half = df[\"track_uri\"].unique()[10000:20000]\n",
    "third_half = df[\"track_uri\"].unique()[20000:]\n",
    "dataLIST = [first_half,second_half,third_half]"
   ]
  },
  {
   "cell_type": "code",
   "execution_count": null,
   "id": "8b09d7d0",
   "metadata": {},
   "outputs": [],
   "source": [
    "featureLIST = []\n",
    "\n",
    "for i in tqdm([uri for uri in dataLIST[0]]):\n",
    "    try:\n",
    "        featureLIST.append(ari_to_features(i))\n",
    "    except:\n",
    "        continue"
   ]
  },
  {
   "cell_type": "code",
   "execution_count": null,
   "id": "8ba6f0d4",
   "metadata": {},
   "outputs": [],
   "source": [
    "for i in tqdm([uri for uri in dataLIST[1]]):\n",
    "    try:\n",
    "        featureLIST.append(ari_to_features(i))\n",
    "    except:\n",
    "        continue"
   ]
  },
  {
   "cell_type": "code",
   "execution_count": null,
   "id": "8f3babde",
   "metadata": {},
   "outputs": [],
   "source": [
    "for i in tqdm([uri for uri in dataLIST[2]]):\n",
    "    try:\n",
    "        featureLIST.append(ari_to_features(i))\n",
    "    except:\n",
    "        continue"
   ]
  },
  {
   "cell_type": "code",
   "execution_count": null,
   "id": "2edd93cf",
   "metadata": {},
   "outputs": [],
   "source": [
    "#Preview the DataFrame\n",
    "featureDF = pd.DataFrame(featureLIST)\n",
    "featureDF"
   ]
  },
  {
   "cell_type": "markdown",
   "id": "548466d7",
   "metadata": {},
   "source": [
    "## Finalising and Export\n",
    "We finally merge the feature DataFrame with the original dataset, as this also contains useful information in the artist name and track name. This is then exported, as our processed data."
   ]
  },
  {
   "cell_type": "code",
   "execution_count": null,
   "id": "7ce095f4",
   "metadata": {},
   "outputs": [],
   "source": [
    "new_df = pd.merge(testDF,featureDF, left_on = \"track_uri\", right_on= \"id\")"
   ]
  },
  {
   "cell_type": "code",
   "execution_count": null,
   "id": "7df30557",
   "metadata": {},
   "outputs": [],
   "source": [
    "new_df.to_csv('../data/processed_data.csv')"
   ]
  }
 ],
 "metadata": {
  "kernelspec": {
   "display_name": "music-rec-env",
   "language": "python",
   "name": "music-rec-env"
  },
  "language_info": {
   "codemirror_mode": {
    "name": "ipython",
    "version": 3
   },
   "file_extension": ".py",
   "mimetype": "text/x-python",
   "name": "python",
   "nbconvert_exporter": "python",
   "pygments_lexer": "ipython3",
   "version": "3.9.12"
  }
 },
 "nbformat": 4,
 "nbformat_minor": 5
}
